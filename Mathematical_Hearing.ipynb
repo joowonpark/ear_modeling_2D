{
 "cells": [
  {
   "cell_type": "markdown",
   "metadata": {
    "collapsed": true,
    "nbpresent": {
     "id": "64b15265-1c81-4558-a92a-111511eebb2c"
    }
   },
   "source": [
    "# Mathematical modeling of Hearing - Chalkboard Derivation"
   ]
  },
  {
   "cell_type": "markdown",
   "metadata": {
    "nbpresent": {
     "id": "936aec95-352d-4ff3-b653-36c15a030578"
    }
   },
   "source": [
    "_This notebook is a record of chalboard derivation during the Applied Mathematics Seminar Class presentation in November 23rd, 2016 delivered by Joo Won Park and Triana Steward. The derivation of 2D modeling of Cochlea by Lesser and Berkley (1972) was demonstrated on chalkboard by Joo Won Park._"
   ]
  },
  {
   "cell_type": "markdown",
   "metadata": {
    "nbpresent": {
     "id": "3bd9abfd-963f-481e-946d-70b323017177"
    }
   },
   "source": [
    "## Introduction\n",
    "\n",
    "In 1961, Georg Von Békésy received the Nobel Prize in Physiology or Medicine for his studies in the inner ear. He discovered that the basilar membrane was responsible for frequency selectivity: for the higher frequency sounds, amplitude peaked closer to the base of the basilar membrane, and for the lower frequency sounds, amplitude peaked closer to the apex of the basilar membrane. The following image demonstrates this characteristic of the basilar membrane.\n",
    "\n",
    "[<img src=\"http://www.d.umn.edu/~jfitzake/Lectures/DMED/InnerEar/CochlearPhysiology/Figures/TravellingWave.png\" width=\"480\">]\n",
    "\n",
    "\n",
    "\n",
    "Békséy's discovery inspired mathematicians to construct a model that is consistent to this discovery.\n",
    "\n",
    "In this page, I am introducing a mathematical model of the inner ear (specificall, cochlea) developed by Lesser and Berkley in their paper, *'Fluid mechanics of the cochlea' (1972)*. My partner and I selected this model among other mathematical for the following reasons:\n",
    "\n",
    "1. Lesser and Berkley's model produce a clear presentation that is consistent to Békésy's results.\n",
    "\n",
    "2. Their model assumed a 2-D flow of perilymph (fluid) in the cochlea. 1-D flow models have an inherent paradox because fluid \"in contact\" with the basilar membrane has a normal velocity to the flow's direction. 3-D flow models can have the lateral component dropped without qualitatively changing the modeling of the basilar membrane.\n",
    "\n",
    "The derivation in this notebooks covers until setting up a system of partial differential equations with boundary conditions in a simplified cochlea chamber partitioned by the basilar membrane.\n",
    "\n",
    "The presentation can be found in Joo Won Park's [website].\n",
    "\n",
    "[website]:http://www.parkjoowon.com/inner-ear/\n",
    "[<img src=\"http://www.d.umn.edu/~jfitzake/Lectures/DMED/InnerEar/CochlearPhysiology/Figures/TravellingWave.png\" width=\"480\">]:http://www.d.umn.edu/~jfitzake/Lectures/DMED/InnerEar/CochlearPhysiology/Figures/TravellingWave.png"
   ]
  },
  {
   "cell_type": "markdown",
   "metadata": {
    "nbpresent": {
     "id": "4632db1a-24bf-4e68-be1a-c6cc2212b8d4"
    }
   },
   "source": [
    "## Assumptions in the Cochlea Model\n",
    "\n",
    "There are several important assumptions to be made in Lesser and Berkley's model about the cochlea:\n",
    "\n",
    "1. The basilar membrane's motion is primarily controlled by the fluid's **potential**. We will be setting up mathematical equations for this variable.\n",
    "\n",
    "2. Fluid (perilymph) has constant density, irrotational flow, and is inviscid. \n",
    "\n",
    "3. Regarding cochlea's structure:\n",
    "  * Each point of Basilar Membrane acts as damped harmonic oscillator.\n",
    "  * Stapes’ (bone resting on the oval window) motion determines position of the oval window.\n",
    "\n",
    "4. The cochlea is the simplified two-chamber model partitioned by the basilar membrane, as seen in the image below from Lesser and Berkley's paper:\n",
    "\n",
    "    [<img src=\"https://raw.githubusercontent.com/joowonpark/ear_modeling_2D/master/lesserberkley.png\" width=\"400\">]\n",
    "\n",
    "    Note that $0 \\leq x \\leq L$ and $-l \\leq y \\leq l$.\n",
    "\n",
    "\n",
    "These assumptions on the cochlea are integral in setting up equations for the behavior of the basilar membrane.\n",
    "\n",
    "[<img src=\"https://raw.githubusercontent.com/joowonpark/ear_modeling_2D/master/lesserberkley.png\" width=\"400\">]:https://raw.githubusercontent.com/joowonpark/ear_modeling_2D/master/lesserberkley.png"
   ]
  },
  {
   "cell_type": "markdown",
   "metadata": {
    "nbpresent": {
     "id": "042014de-602a-4c49-9845-d2f1c84329f0"
    }
   },
   "source": [
    "## Variables\n",
    "\n",
    "The following is the list of variables used in the modeling.(Supscripts $1$, $2$ specifies upper, lower chamber):\n",
    "\n",
    "$\\vec{u}$: velocity of fluid (2D)\n",
    "\n",
    "$\\eta$: y-displacement of BM (the Basilar Membrane)\n",
    "\n",
    "$\\rho$ : fluid density (constant)\n",
    "\n",
    "$p$: fluid pressure\n",
    "\n",
    "$\\Phi$: fluid potential ($\\nabla{\\Phi} = \\vec{u}$)\n",
    "\n"
   ]
  },
  {
   "cell_type": "markdown",
   "metadata": {
    "nbpresent": {
     "id": "7693ebed-8c32-4ffb-b6d0-e8e9800d79b4"
    }
   },
   "source": [
    "## Fluid Equations\n",
    "\n",
    "There are two equations from the fluid motions that serve as a starting point of the derivation to the PDE system.\n",
    "\n",
    "1. Equation of Continuity (Conservation of Mass)\n",
    "\n",
    "    For incompressble fluid (fluid density is constant), the conservation of mass leads to the following equation:\n",
    "\n",
    "    $$\n",
    "    \\frac{\\partial \\rho}{\\partial t} = -\\nabla \\cdot (\\rho \\vec{u})\n",
    "    $$\n",
    "\n",
    "    Under the assumption that the fluid density is constant, the equation becomes:\n",
    "\n",
    "    $$\n",
    "    \\nabla \\cdot (\\vec{u}) = 0\n",
    "    $$\n",
    "\n",
    "2. Equation of Motion (Newton's Second Law)\n",
    "\n",
    "    For inviscid fluid, the Navier-Stokes equation leads to the following equation, assuming that body force (such as gravity) is neglectable:\n",
    "\n",
    "    $$\n",
    "    \\frac{\\partial \\vec{u}}{\\partial t} + (\\vec{u} \\cdot \\nabla)\\vec{u} = -\\frac{1}{\\rho} \\nabla p\n",
    "    $$\n",
    "\n",
    "    Assuming 2 dimensional linear flow of the fluid, the non-linear term may be ignored, which leads to the following equation:\n",
    "\n",
    "    $$\n",
    "    \\rho \\frac{\\partial \\vec{u}}{\\partial t} + \\nabla p = 0\n",
    "    $$\n",
    "\n",
    "3. Defining Flow Potential\n",
    "\n",
    "    Lastly, flow potential can be defined under the assumption that the fluid is irrotational, which mathematically can be represented as $\\nabla \\times \\vec{u} = 0$. Mathematically, we know that curl of gradient is zero. That is, we can define a scalar field such that its gradient is equal to $\\vec{u}$. That is, flow potential can be defined: \n",
    "    $$\\nabla \\Phi = \\vec{u}$$\n",
    "\n",
    "Concept of fluid potential leads to an updated equations of fluid:\n",
    "\n",
    "**Equation of continuity**: $0 = \\nabla \\cdot (\\vec{u}) = \\nabla \\cdot (\\nabla \\Phi) = \\Delta \\Phi$\n",
    "\n",
    "$$\n",
    "\\Delta \\Phi = 0\n",
    "$$\n",
    "\n",
    "**Equation of motion**: $0 = \\rho \\frac{\\partial \\vec{u}}{\\partial t} + \\nabla p = \\rho \\frac{\\partial (\\nabla \\Phi)}{\\partial t} + \\nabla p = \\nabla \\left(\\rho \\frac{\\partial \\Phi}{\\partial t} + p \\right)$\n",
    "\n",
    "$$\n",
    "\\rho \\frac{\\partial \\Phi}{\\partial t} + p = 0\n",
    "$$\n"
   ]
  },
  {
   "cell_type": "markdown",
   "metadata": {
    "nbpresent": {
     "id": "6fd7f895-b19d-4f62-a1b4-e8d320b283a3"
    }
   },
   "source": [
    "## Equation of the Basilar Membrane\n",
    "\n",
    "In this section an equation of force (per unit area) for the basilar membrane is constructed. Each point of the basilar membrane behaves like a simple, damped harmonic oscillator. Balance of force (per unit area) leads to the following equation:\n",
    "\n",
    "$$\n",
    "m(x)\\eta_{tt} + r(x)\\eta_{t}+\\kappa(x) \\eta = p_2 - p_1\n",
    "$$\n",
    "\n",
    "Note that the characteristic of basilar membrane varies by length. (i.e. Basilar membrane is most stiff at the base and most flexible at the apex.)\n",
    "\n",
    "$m(x)$, $r(x)$, and $\\kappa(x)$ are properties of the basilar membrane depending on the location $x$. They stand for:\n",
    "<center>$m(x)$: mass per area\n",
    "<center>$r(x)$: resistance\n",
    "<center>$\\kappa(x)$: stiffness"
   ]
  },
  {
   "cell_type": "markdown",
   "metadata": {
    "nbpresent": {
     "id": "7b5ec2dd-723b-40e0-908b-9d91802bf23a"
    }
   },
   "source": [
    "## Boundary Conditions\n",
    "\n",
    "*Now, combining equations from the fluid mechanics and the basilar membrane, a system of partial differential equations with boundary conditions can be derived. Deriving for the upper chamber is sufficient because of the symmetry in the upper and lower chamber of the simplified cochlea model. Note that the functions in the lower chamber are odd in $y$ to the functions in the upper chamber*: (i.e. $\\Phi_2 = -\\Phi(-y,t)$, $p_2 = -p_1(-y,t)$)"
   ]
  },
  {
   "cell_type": "markdown",
   "metadata": {
    "nbpresent": {
     "id": "0725f448-b2bf-4312-84b8-d418ce896a50"
    }
   },
   "source": [
    "The following is the boundary conditions for the upper chamber ($y \\in [0, l], x \\in [0, L]$)\n",
    "As demonstrated previously, gradient of flow potential $\\Phi$ is the flow velocity. That is, $\\frac{\\partial \\Phi}{\\partial x}$ and $\\frac{\\partial \\Phi}{\\partial y}$ refers to the flow's vertical and horizontal velocity, respectively. \n",
    "\n",
    "### Vertical Velocity at $y = 0$\n",
    "\n",
    "$$\\frac{\\partial \\Phi}{\\partial y} = \\frac{\\partial \\eta}{\\partial t}$$\n",
    "\n",
    "The fluid near $y=0$, or the fluid in contact with the basilar membrane, must behave like the membrane's motion. $\\frac{\\partial \\eta}{\\partial t}$ represents the membrane's velocity ($y$ direction). \n",
    "\n",
    "### Vertical Velocity at $y = l$\n",
    "\n",
    "$$\\frac{\\partial \\Phi}{\\partial y} = 0$$\n",
    "\n",
    "At the top of the chamber (at $y=l$), the fluid's vertical velocity is assumed to be 0.\n",
    "\n",
    "### Horizontal Velocity at $x = 0$\n",
    "\n",
    "$$\\frac{\\partial \\Phi}{\\partial x} = \\frac{\\partial F(y,t)}{\\partial t}$$\n",
    "\n",
    "As mentioned in the assumptions regarding cochlea's structure, stapes’ motion determines position of the oval window (at $x=0$). $F$ is horizontal **displacement** of oval window, a membrane-covered opening. Thus, $\\frac{\\partial F(y,t)}{\\partial t}$, the horizontal velocity of oval window at point $y$, determines the fluid's horizontal velocity at the beginning of the chamber. ($F$ is not to be confused as *force*.)\n",
    "\n",
    "### Horizontal Velocity at $x = L$\n",
    "\n",
    "$$\\frac{\\partial \\Phi}{\\partial x} = 0$$\n",
    "\n",
    "At the end of the chamber (at $x=L$), the fluid's horizontal velocity is assumed to be 0.\n"
   ]
  },
  {
   "cell_type": "markdown",
   "metadata": {
    "nbpresent": {
     "id": "0852ac52-cebc-4fb7-a46c-5eae5d7328a2"
    }
   },
   "source": [
    "## Derivation of PDE and BC system of $\\Phi$\n",
    "\n",
    "In this section, the following sets of equations that has been described by far will be transformed into a more simple system, using technique explained by Lesser and Berkley. First, the frequency-dependent functions $F$, $\\Phi$, $p$, and $\\eta$ will be expressed in analytic representation. Then, equations 2), 3), and 4) will be combined into one equation in $\\Phi$ that results in a laplace equation with four boundary conditions. \n",
    "\n",
    "#### Fluid Equations\n",
    "\n",
    "1) $\\Delta \\Phi = 0$\n",
    "\n",
    "2) $\\rho \\frac{\\partial \\Phi}{\\partial t} + p = 0$\n",
    "\n",
    "#### Basilar Membrane balance of force\n",
    "\n",
    "3) $m(x)\\eta_{tt} + r(x)\\eta_{t}+\\kappa(x) \\eta = p_2 - p_1 = -2p_1 = -2p$ \n",
    "\n",
    "(Note that $p_2$ is odd to $p_1$ in $y$. The subscript is dropped for simplicity in the last step.)\n",
    "\n",
    "#### Boundary Conditions\n",
    "\n",
    "4) $\\frac{\\partial \\Phi}{\\partial y} = \\frac{\\partial \\eta}{\\partial t}$ at $(y = 0) $\n",
    "\n",
    "5) $\\frac{\\partial \\Phi}{\\partial y} = 0$ at $(y = l)$\n",
    "\n",
    "6) $\\frac{\\partial \\Phi}{\\partial x} = \\frac{\\partial F(y,t)}{\\partial t}$ at $(x = 0)$\n",
    "\n",
    "7) $\\frac{\\partial \\Phi}{\\partial x} = 0$ at $(x = L)$\n",
    "\n"
   ]
  },
  {
   "cell_type": "markdown",
   "metadata": {
    "nbpresent": {
     "id": "222a11ea-8ee5-4516-9d49-b0dc9f290b19"
    }
   },
   "source": [
    "### Analytic Representation\n",
    "\n",
    "Lesser and Berkley examines steady-state response of the cochlea to the pure tone. $F$, the displacement of the oval window, is caused by input of single frequency from incoming sound. So, we can express $F(y,t)$ as $F = \\hat{F} (y) e^{iwt}$ where $w$ is frequency. Similarly, other  frequency-dependent functions $\\Phi$, $p$, and $\\eta$ can be expressed as:\n",
    "\n",
    "$$\\Phi = \\hat{\\Phi}e^{iwt}, p = \\hat{p}e^{iwt}, \\eta =\\eta_0 e^{iwt}$$\n",
    "(More details about this can be found in a concept called ['phasor'].)\n",
    "\n",
    "Equations 1) to 7) can be transformed in frequency dependent equations:\n",
    "\n",
    "['phasor']: https://en.wikipedia.org/wiki/Phasor\n",
    "\n",
    "\n",
    "#### Fluid Equations\n",
    "\n",
    "1) $\\Delta \\hat{\\Phi} = 0$\n",
    "\n",
    "2) $iw\\rho \\hat{\\Phi} + \\hat{p} = 0$\n",
    "\n",
    "#### Basilar Membrane balance of force\n",
    "\n",
    "3) $ (-mw^2 + irw + \\kappa)\\hat{\\eta} = -2\\hat{p}$\n",
    "\n",
    "By defining $Z = miw + r + \\frac{\\kappa}{iw}$, this equation can be expressed in:\n",
    "\n",
    "$iwZ\\hat{\\eta} = -2\\hat{p}$\n",
    "\n",
    "\n",
    "#### Boundary Conditions\n",
    "\n",
    "4) $\\frac{\\partial \\hat{\\Phi}}{\\partial y} = iw\\eta_0$ at $(y = 0) $\n",
    "\n",
    "Combining 2) and 3), this equation can be expressed in:\n",
    "\n",
    "$\\frac{\\partial \\hat{\\Phi}}{\\partial y} = \\frac{2iw\\rho \\hat{\\Phi}}{Z}$ at $(y = 0) $\n",
    "\n",
    "5) $\\frac{\\partial \\hat{\\Phi}}{\\partial y} = 0$ at $(y = l)$\n",
    "\n",
    "6) $\\frac{\\partial \\hat{\\Phi}}{\\partial x} = iw\\hat{F} = U_0$ at $(x = 0)$\n",
    "\n",
    "7) $\\frac{\\partial \\hat{\\Phi}}{\\partial x} = 0$ at $(x = L)$\n",
    "\n"
   ]
  },
  {
   "cell_type": "markdown",
   "metadata": {},
   "source": [
    "## System of Laplace Equation with Neumann Boundary Condition\n",
    "\n",
    "By far, a system of Laplace Equation with Neumann Boundary Condition has been derived. Scaling $x$ and $y$ by L, $Z$ by $iw\\rho L$, and $\\hat {\\Phi}$ by $U_0 L$ and dropping the hats results in the following simplified system:\n",
    "\n",
    "1) $$\\Delta {\\Phi} = 0$$\n",
    "\n",
    "2) at $y = 0$\n",
    "$$\\frac{\\partial {\\Phi}}{\\partial y} = \\frac{2{\\Phi}}{Z}$$\n",
    "\n",
    "3) at $(y = \\frac{l}{L} = \\sigma)$ \n",
    "$$\\frac{\\partial {\\Phi}}{\\partial y} = 0$$\n",
    "\n",
    "4) at $(x = 0)$\n",
    "$$\\frac{\\partial {\\Phi}}{\\partial x} = 1$$\n",
    "\n",
    "5) at $(x = 1)$\n",
    "$$\\frac{\\partial {\\Phi}}{\\partial x} = 0$$\n",
    "\n",
    "Derivation to this system of partial differential equations \n",
    "\n",
    "### Solution suggested by Lesser and Berkley\n",
    "\n",
    "*As an additional information, the solution suggested by Lesser and Berkley is introduced and briefly explained in this section.*\n",
    "\n",
    "The following solution of the fluid flow potential satisfies the equations 1), 3)~5):\n",
    "\n",
    "$$\n",
    "\\Phi =  x \\left(1 - \\frac{1}{2} \\right) - \\sigma y \\left(1 - \\frac{y}{2\\sigma} \\right) + \n",
    "\\sum_{n=0}^{\\infty}A_n \\cosh[n \\pi(\\sigma - y)] \\cos(n \\pi x)\n",
    "$$\n",
    "\n",
    "The complete solution can be found using the second equation 2) by determining the coefficient $A_n$, using Fast Fourier Transformation algorithm by Cooley and Tukey.\n",
    "\n",
    "$$A_m \\alpha_m = f_m$$\n",
    "$$\\alpha_m = \\frac{1}{Z} \\cosh(m \\pi \\sigma) - \\frac{1}{2}n \\pi \\sinh (m \\pi \\sigma)$$\n",
    "$$f_m =  \\sigma \\delta_{m0} - \\int_{0}^{1} \\frac{x(2-x)\\cos(m \\pi x)}{Z}dx = - \\frac{2}{m^2 \\pi^2}$$\n",
    "\n",
    "*These solutions are computed in Lesser and Berkley's paper.*\n"
   ]
  },
  {
   "cell_type": "markdown",
   "metadata": {},
   "source": [
    "## Conclusion\n",
    "\n",
    "As mentioned before, Lesser and Berkley's mathematical model of the cochlea produce results that coincides Békésy's discovery. \n",
    "\n",
    "The following table from Lesser and Berkley's paper shows the mathematical results of the displacement at the basilar memrane where each frequency tone peaked in comparison to Békésy's experimental results. (Given membrane's characteristic variables, $m$, $r$ and $\\kappa$)\n",
    "\n",
    "[<img src=\"https://raw.githubusercontent.com/joowonpark/ear_modeling_2D/master/LBtable.png\" width=\"500\">]\n",
    "\n",
    "The following image from Lesser and Berkley's paper graphs the table above. According to the figure, the basilar membrane displays frequency selectivity by its displacement from the stapes. The higher frequency tones' amplitude are peaked closer to the basilar membrane's base, and the lower frequency tones' amplitude are peaked towards the membrane's apex. \n",
    "\n",
    "[<img src=\"https://raw.githubusercontent.com/joowonpark/ear_modeling_2D/master/LBtable.png\" width=\"500\">]: https://raw.githubusercontent.com/joowonpark/ear_modeling_2D/master/LBtable.png\n",
    "\n",
    "\n",
    "[<img src=\"https://raw.githubusercontent.com/joowonpark/ear_modeling_2D/master/LB_figure.png\" width=\"500\">]\n",
    "\n",
    "[<img src=\"https://raw.githubusercontent.com/joowonpark/ear_modeling_2D/master/LB_figure.png\" width=\"500\">]: https://raw.githubusercontent.com/joowonpark/ear_modeling_2D/master/LB_figure.png\n",
    "\n",
    "The literature review of the cochlea research gave me a valuable insight of the procedures of mathematical modeling regarding the appropriate assumptions, derivations using substitution and complex transformation, and nondimensionalization by scaling. I hope to continue mathematical modeling research that is pertinent to acoustical sciences in the future."
   ]
  },
  {
   "cell_type": "markdown",
   "metadata": {},
   "source": [
    "## References\n",
    "\n",
    "**Lesser, M. B. and D. A. Berkley**. (1972). *Fluid Mechanics of the Cochlea*. Part I., Journal of Fluid Mechanics. 51: 497–512.\n",
    "\n",
    "**Keener JP, Sneyd J**. *Mathematical Physiology, chapter 23*. Springer-Verlag, 1998.\n",
    "\n",
    "**Purves, Dale**. *Neuroscience: 3rd Edition*. Sunderland, MA: Sinauer, 2004. \n",
    "\n",
    "**Strauss, Walter A**. *Partial Differential Equations: An Introduction*. New York: Wiley, 2008. \n",
    "\n",
    "**Bekesy, Georg Von.** (1961) *Concerning the pleasures of observing, and the mechanics of the inner ear*. Nobel Prize Lecture \n",
    "\n",
    "Viergever. M.A. (1980). *Mechanics of the Inner Ear - A mathematical approach*. Doctoral dissertation. Delft University Press, Delft, The Netherlands.\n",
    "\n",
    "Boer, Egbert De. *Mechanics of the Cochlea: Modeling Efforts, The Cochlea*. Ed. Peter Dallos, Ed. Richard R Fay. New York: Springer, 1996. Print\n",
    "\n",
    "Fluids – Lecture 6 Notes, MIT. http://web.mit.edu/16.unified/www/FALL/fluids/Lectures/f06.pdf (lecture note on Fluid Dynamics)\n",
    "\n",
    "\n",
    "***(bolded font indicates the main references)***"
   ]
  }
 ],
 "metadata": {
  "anaconda-cloud": {},
  "kernelspec": {
   "display_name": "Python [Root]",
   "language": "python",
   "name": "Python [Root]"
  },
  "language_info": {
   "codemirror_mode": {
    "name": "ipython",
    "version": 2
   },
   "file_extension": ".py",
   "mimetype": "text/x-python",
   "name": "python",
   "nbconvert_exporter": "python",
   "pygments_lexer": "ipython2",
   "version": "2.7.12"
  }
 },
 "nbformat": 4,
 "nbformat_minor": 0
}
